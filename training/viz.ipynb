{
 "cells": [
  {
   "cell_type": "code",
   "execution_count": 1,
   "metadata": {},
   "outputs": [],
   "source": [
    "import torch\n",
    "import numpy as np\n",
    "import matplotlib.pyplot as plt"
   ]
  },
  {
   "cell_type": "code",
   "execution_count": 2,
   "metadata": {},
   "outputs": [
    {
     "data": {
      "text/plain": [
       "(torch.Size([16, 3, 512, 512]), torch.Size([3, 512, 512]))"
      ]
     },
     "execution_count": 2,
     "metadata": {},
     "output_type": "execute_result"
    }
   ],
   "source": [
    "x = torch.Tensor(size=(16,3,512,512))\n",
    "x.size(), x[0].size()"
   ]
  },
  {
   "cell_type": "code",
   "execution_count": 3,
   "metadata": {},
   "outputs": [
    {
     "data": {
      "text/plain": [
       "torch.Size([1, 3, 512, 512])"
      ]
     },
     "execution_count": 3,
     "metadata": {},
     "output_type": "execute_result"
    }
   ],
   "source": [
    "y = x[0]\n",
    "y.unsqueeze(0).shape\n",
    "# y.size(), y.cpu().detach().numpy().transpose(1, 2, 0).shape"
   ]
  },
  {
   "cell_type": "code",
   "execution_count": 4,
   "metadata": {},
   "outputs": [],
   "source": [
    "def aggregate_loss_dict(agg_loss_dict):\n",
    "\tmean_vals = {}\n",
    "\tfor output in agg_loss_dict:\n",
    "\t\tfor key in output:\n",
    "\t\t\tmean_vals[key] = mean_vals.setdefault(key, []) + [output[key]]\n",
    "\tfor key in mean_vals:\n",
    "\t\tif len(mean_vals[key]) > 0:\n",
    "\t\t\tmean_vals[key] = sum(mean_vals[key]) / len(mean_vals[key])\n",
    "\t\telse:\n",
    "\t\t\tprint('{} has no value'.format(key))\n",
    "\t\t\tmean_vals[key] = 0\n",
    "\treturn mean_vals"
   ]
  },
  {
   "cell_type": "code",
   "execution_count": 9,
   "metadata": {},
   "outputs": [
    {
     "data": {
      "text/plain": [
       "{'loss': 2.5, 'loss_r': 1.75}"
      ]
     },
     "execution_count": 9,
     "metadata": {},
     "output_type": "execute_result"
    }
   ],
   "source": [
    "agg_loss_dict = [{\"loss\": 1, \"loss_r\": 2}, {\"loss\": 2, \"loss_r\": 1}, {\"loss\": 3, \"loss_r\": 3}, {\"loss\": 4, \"loss_r\": 1}]\n",
    "agg = aggregate_loss_dict(agg_loss_dict=agg_loss_dict)\n",
    "agg"
   ]
  },
  {
   "cell_type": "code",
   "execution_count": 14,
   "metadata": {},
   "outputs": [
    {
     "data": {
      "text/plain": [
       "4.25"
      ]
     },
     "execution_count": 14,
     "metadata": {},
     "output_type": "execute_result"
    }
   ],
   "source": [
    "loss_total = sum([agg[key] for key in agg])\n",
    "loss_total"
   ]
  },
  {
   "cell_type": "code",
   "execution_count": null,
   "metadata": {},
   "outputs": [],
   "source": []
  }
 ],
 "metadata": {
  "interpreter": {
   "hash": "12c6f07df854dc6c88addbe025d1c4b6056d594a7c27e7c64a55d4c278f1201f"
  },
  "kernelspec": {
   "display_name": "Python 3.9.7 ('styleSpace')",
   "language": "python",
   "name": "python3"
  },
  "language_info": {
   "codemirror_mode": {
    "name": "ipython",
    "version": 3
   },
   "file_extension": ".py",
   "mimetype": "text/x-python",
   "name": "python",
   "nbconvert_exporter": "python",
   "pygments_lexer": "ipython3",
   "version": "3.9.7"
  },
  "orig_nbformat": 4
 },
 "nbformat": 4,
 "nbformat_minor": 2
}
